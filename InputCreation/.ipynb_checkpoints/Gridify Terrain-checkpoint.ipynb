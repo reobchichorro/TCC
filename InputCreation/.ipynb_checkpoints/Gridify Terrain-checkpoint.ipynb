{
 "cells": [
  {
   "cell_type": "code",
   "execution_count": 68,
   "metadata": {},
   "outputs": [],
   "source": [
    "import numpy as np\n",
    "\n",
    "path = '../DEM-IBGE/rj25/'\n",
    "asciipath = path + 'ascii/'\n",
    "gridpath = path + 'grid/'\n",
    "cerrpath = path + '.cerr/'\n",
    "listpath = path + 'flist.txt'"
   ]
  },
  {
   "cell_type": "code",
   "execution_count": 69,
   "metadata": {},
   "outputs": [],
   "source": [
    "class xyz:\n",
    "    def __init__(self, x, y, z):\n",
    "        self.x = x\n",
    "        self.y = y\n",
    "        self.z = z\n",
    "\n",
    "    def take_min(self, other):\n",
    "        self.x = min(self.x, other.x);\n",
    "        self.y = min(self.y, other.y);\n",
    "        self.z = min(self.z, other.z);\n",
    "\n",
    "    def take_max(self, other):\n",
    "        self.x = max(self.x, other.x);\n",
    "        self.y = max(self.y, other.y);\n",
    "        self.z = max(self.z, other.z);\n",
    "    \n",
    "    def __lt__(self, other):\n",
    "        if self.x == other.x:\n",
    "            return self.y < other.y\n",
    "        return self.x < other.x\n",
    "    \n",
    "    def __str__(self):\n",
    "        return str(self.x) + ',' + str(self.y) + ',' + str(self.z)"
   ]
  },
  {
   "cell_type": "code",
   "execution_count": 70,
   "metadata": {},
   "outputs": [],
   "source": [
    "def paths(filename):\n",
    "    name = filename.partition('.')[0]\n",
    "    ascii_full_path = asciipath + filename;\n",
    "    cerr_full_path = cerrpath + name;\n",
    "    grid_full_path = gridpath + name;\n",
    "    \n",
    "    return [name, ascii_full_path, cerr_full_path, grid_full_path]"
   ]
  },
  {
   "cell_type": "code",
   "execution_count": 85,
   "metadata": {},
   "outputs": [],
   "source": [
    "def read_file(ascii_full_path):\n",
    "    asciifile = open(ascii_full_path, 'r');\n",
    "    lines = asciifile.read().splitlines()\n",
    "    all_points = []\n",
    "\n",
    "    for line in lines:\n",
    "        lline = line.split(',')\n",
    "        point = [float(lline[0]), float(lline[1]), float(lline[2])]\n",
    "        all_points.append( xyz( int(point[0]), int(point[1]), int(point[2]) ) )\n",
    "\n",
    "    asciifile.close();\n",
    "    all_points.sort()\n",
    "\n",
    "#     for i in range(0, len(all_points)):\n",
    "#         if i%20000==0:\n",
    "#             print(all_points[i])\n",
    "    return all_points"
   ]
  },
  {
   "cell_type": "code",
   "execution_count": 91,
   "metadata": {},
   "outputs": [],
   "source": [
    "def extreme_points(all_points):\n",
    "    smallest = xyz(all_points[0].x, all_points[0].y, all_points[0].z)\n",
    "    largest = xyz(all_points[0].x, all_points[0].y, all_points[0].z)\n",
    "\n",
    "    for i in range(0, len(all_points)):\n",
    "        smallest.take_min(all_points[i])\n",
    "        largest.take_max(all_points[i])\n",
    "\n",
    "#     print(smallest, largest)\n",
    "\n",
    "    for i in range(0, len(all_points)):\n",
    "        all_points[i].x -= smallest.x\n",
    "        all_points[i].y -= smallest.y\n",
    "\n",
    "    smallest = xyz(all_points[0].x, all_points[0].y, all_points[0].z)\n",
    "    largest = xyz(all_points[0].x, all_points[0].y, all_points[0].z)\n",
    "\n",
    "#     for i in range(0, len(all_points)):\n",
    "#         smallest.take_min(all_points[i])\n",
    "#         largest.take_max(all_points[i])\n",
    "\n",
    "#         if all_points[i].x % 20 != 0 or all_points[i].y % 20 != 0:\n",
    "            print(i, all_points[i])\n",
    "    #     if i%100==0:\n",
    "    #         print(all_points[i])\n",
    "\n",
    "    return [smallest,largest]"
   ]
  },
  {
   "cell_type": "code",
   "execution_count": 93,
   "metadata": {},
   "outputs": [],
   "source": [
    "def sizexy(all_points, smallest, largest):\n",
    "    interval = 20\n",
    "\n",
    "    for i in range(0, len(all_points)):\n",
    "        all_points[i].x = all_points[i].x//interval\n",
    "        all_points[i].y = all_points[i].y//interval\n",
    "\n",
    "    smallest = xyz(all_points[0].x, all_points[0].y, all_points[0].z)\n",
    "    largest = xyz(all_points[0].x, all_points[0].y, all_points[0].z)\n",
    "\n",
    "    for i in range(0, len(all_points)):\n",
    "        smallest.take_min(all_points[i])\n",
    "        largest.take_max(all_points[i])\n",
    "\n",
    "    print(smallest, largest)\n",
    "    sizex = (largest.x - smallest.x) + 1;\n",
    "    sizey = (largest.y - smallest.y) + 1;\n",
    "    \n",
    "    return [sizex, sizey]"
   ]
  },
  {
   "cell_type": "code",
   "execution_count": 94,
   "metadata": {},
   "outputs": [],
   "source": [
    "def fill_height(sizex, sizey):\n",
    "    height = np.full((sizey, sizex), -1)\n",
    "\n",
    "    for i in range(0, len(all_points)):\n",
    "        height[all_points[i].y, all_points[i].x] = all_points[i].z\n",
    "    \n",
    "    return height"
   ]
  },
  {
   "cell_type": "code",
   "execution_count": 95,
   "metadata": {},
   "outputs": [
    {
     "ename": "SyntaxError",
     "evalue": "invalid syntax (<ipython-input-95-8152d4b25b5e>, line 1)",
     "output_type": "error",
     "traceback": [
      "\u001b[0;36m  File \u001b[0;32m\"<ipython-input-95-8152d4b25b5e>\"\u001b[0;36m, line \u001b[0;32m1\u001b[0m\n\u001b[0;31m    def print_height(height, sizex, sizey, largest)\u001b[0m\n\u001b[0m                                                   ^\u001b[0m\n\u001b[0;31mSyntaxError\u001b[0m\u001b[0;31m:\u001b[0m invalid syntax\n"
     ]
    }
   ],
   "source": [
    "def print_height(height, sizex, sizey, largest):\n",
    "    gridfile = open(grid_full_path, 'w');\n",
    "    digits = 4 if (largest.z >= 1000) else 3\n",
    "    for i in range(0, sizey):\n",
    "        for j in range(0,sizex):\n",
    "            if j < sizex-1:\n",
    "                gridfile.write(str(height[i][j]).zfill(digits) + ' ')\n",
    "            else:\n",
    "                gridfile.write(str(height[i][j]).zfill(digits) + '\\n')"
   ]
  },
  {
   "cell_type": "code",
   "execution_count": 57,
   "metadata": {
    "scrolled": true
   },
   "outputs": [
    {
     "name": "stdout",
     "output_type": "stream",
     "text": [
      "[ -1  -1  -1  -1  -1  -1  -1  -1  -1  -1  -1  -1  -1  -1  -1  -1  -1  -1\n",
      "  -1  -1  -1  -1  -1  -1  -1  -1  -1  -1  -1  -1  -1  -1  -1  -1  -1  -1\n",
      "  -1  -1  -1  -1  -1  -1  -1  -1  -1  -1  -1  -1  -1  -1  -1  -1  -1  -1\n",
      "  -1  -1  -1  -1  -1  -1  -1  -1  -1  -1  -1  -1  -1  -1  -1  -1  -1  -1\n",
      "  -1  -1  -1  -1  -1  -1  -1  -1  -1  -1  -1  -1  -1  -1  -1  -1  -1  -1\n",
      "  -1  -1  -1  -1  -1  -1  -1  -1  -1  -1  -1  -1  -1  -1  -1  -1  -1  -1\n",
      "  -1  -1  -1  -1  -1  -1  -1  -1  -1  -1  -1  -1  -1  -1  -1  -1  -1  -1\n",
      "  -1  -1  -1  -1  -1  -1  -1  -1  -1  -1  -1  -1  -1  -1  -1  -1  -1  -1\n",
      "  -1  -1  -1  -1  -1  -1  -1  -1  -1  -1  -1  -1  -1  -1  -1  -1  -1  -1\n",
      "  -1  -1  -1  -1  -1  -1  -1  -1  -1  -1  -1  -1  -1  -1  -1  -1  -1  -1\n",
      "  -1  -1  -1  -1  -1  -1  -1  -1  -1  -1  -1  -1  -1  -1  -1  -1  -1  -1\n",
      "  -1  -1  -1  -1  -1  -1  -1  -1  -1  -1  -1  -1  -1  -1  -1  -1  -1  -1\n",
      "  -1  -1  -1  -1  -1  -1  -1  -1  -1  -1  -1  -1  -1  -1  -1  -1  -1  -1\n",
      "  -1  -1  -1  -1  -1  -1  -1  -1  -1  -1  -1  -1  -1  -1  -1  -1  -1  -1\n",
      "  -1  -1  -1  -1  -1  -1  -1  -1  -1  -1  -1  -1  -1  -1  -1  -1  -1  -1\n",
      "  -1  -1  -1  -1  -1  -1  -1  -1  -1  -1  -1  -1  -1  -1  -1  -1  -1  -1\n",
      "  -1  -1  -1  -1  -1  -1  -1  -1  -1  -1  -1  -1  -1  -1  -1  -1  -1  -1\n",
      "  -1  -1  -1  -1  -1  -1  -1  -1  -1  -1  -1  -1  -1  -1  -1  -1  -1  -1\n",
      "  -1 337 336 335 334 332 330 324 320 320 319 318 316 316 315 315 314 314\n",
      " 314 314 314 313 314 314 315 316 319 325 331 336 338 339 340 342 344 344\n",
      " 347 351 357 363 369 375 380 385 389 389 387 381 371 360 352 345 336 329\n",
      " 322 314 300 290 285 283 283 283 283 283 283 283 284 284 284 283 282 281\n",
      " 280 281 281 281 282 282 281 281 283 285 287 288 289 290 291 292 292 290\n",
      " 287 284 281 275 273 271 269 267 266 266 265 264 264 265 266 264 261 259\n",
      " 259 257 258 260 262 263 265 266 268 270 272 276 279 284 286 285 285 286\n",
      " 288 291 297 300 301 301 303 301 299 297 296 294 291 289 287 288 290 292\n",
      " 293 300 307 313 319 324 324 323 321 318 315 311 306 301 297 291 284 276\n",
      " 268 262 258 255 251 247 242 237 235 232 228 226 228 230 235 240 244 249\n",
      " 252 255 259 258 259 263 263 263 262 261 261 260 260 258 255 252 249 246\n",
      " 241 237 233 230 232 232 231 230 228 225 222 219 216 214 212 210 208 206\n",
      " 206 205 205 208 215 221 225 230 232 232 229 225 219 210 201 192 189 187\n",
      " 186 185 184 183 183 183 183 183 183 183 185 186 188 191 196 201 206 211\n",
      " 216 219 218 220 225 229 234 240 245 250 255 261 268 270 271 273 273 269\n",
      " 264 258 253 247 241 239 241 243 244 245 246 246 246 240 234 228 224 222\n",
      " 224 228 236 244 253 256 253 249 244 236 231 228 224 221 218 215 211 207\n",
      " 202 200 198 195 193 192 191 191 191 191 193 199 200 201 202 202 200 202\n",
      " 205 208 210 211 209 207 210 213 217 223 229 234 239 245 253 261 272 282\n",
      " 293 304 312 316 318 317 313 309 309 308 308 308 307 306 301 295 289 283\n",
      " 276 270 264 258 258 263 265 267 269 271 274 280 286 293 297  -1  -1  -1\n",
      "  -1  -1  -1]\n",
      "[ -1  -1  -1  -1  -1  -1  -1  -1  -1  -1  -1  -1  -1  -1  -1  -1  -1  -1\n",
      "  -1  -1  -1  -1  -1  -1  -1  -1  -1  -1  -1  -1  -1  -1  -1  -1  -1  -1\n",
      "  -1  -1  -1  -1  -1  -1  -1  -1  -1  -1  -1  -1  -1  -1  -1  -1  -1  -1\n",
      "  -1  -1  -1  -1  -1  -1  -1  -1  -1  -1  -1  -1  -1  -1  -1  -1  -1  -1\n",
      "  -1  -1  -1  -1  -1  -1  -1  -1  -1  -1  -1  -1  -1  -1  -1  -1  -1  -1\n",
      "  -1  -1  -1  -1  -1  -1  -1  -1  -1  -1  -1  -1  -1  -1  -1  -1  -1  -1\n",
      "  -1  -1  -1  -1  -1  -1  -1  -1  -1  -1  -1  -1  -1  -1  -1  -1  -1  -1\n",
      "  -1  -1  -1  -1  -1  -1  -1  -1  -1  -1  -1  -1  -1  -1  -1  -1  -1  -1\n",
      "  -1  -1  -1  -1  -1  -1  -1  -1  -1  -1  -1  -1  -1  -1  -1  -1  -1  -1\n",
      "  -1  -1  -1  -1  -1  -1  -1  -1  -1  -1  -1  -1  -1  -1  -1  -1  -1  -1\n",
      "  -1  -1  -1  -1  -1  -1  -1  -1  -1  -1  -1  -1  -1  -1  -1  -1  -1  -1\n",
      "  -1  -1  -1  -1  -1  -1  -1  -1  -1  -1  -1  -1  -1  -1  -1  -1  -1  -1\n",
      "  -1  -1  -1  -1  -1  -1  -1  -1  -1  -1  -1  -1  -1  -1  -1  -1  -1  -1\n",
      "  -1  -1  -1  -1  -1  -1  -1  -1  -1  -1  -1  -1  -1  -1  -1  -1  -1  -1\n",
      "  -1  -1  -1  -1  -1  -1  -1  -1  -1  -1  -1  -1  -1  -1  -1  -1  -1  -1\n",
      "  -1 402 397 391 384 378 373 370 370 370 369 369 371 374 373 369 365 361\n",
      " 357 352 348 344 343 345 347 350 354 360 366 374 384 394 405 415 426 433\n",
      " 435 432 426 420 414 409 402 396 389 382 376 370 364 357 350 343 338 337\n",
      " 336 335 334 333 332 330 327 322 319 319 318 317 316 316 315 315 315 315\n",
      " 315 315 315 315 316 317 317 319 324 330 336 340 342 343 344 345 348 349\n",
      " 352 358 364 370 376 381 385 389 390 389 386 379 370 361 353 345 337 330\n",
      " 322 312 299 290 285 283 283 283 283 283 283 283 283 283 283 282 282 281\n",
      " 281 281 281 281 282 282 283 284 286 288 290 291 292 293 294 293 292 290\n",
      " 287 283 280 276 273 271 270 268 268 267 267 267 268 270 269 266 263 261\n",
      " 259 258 260 262 264 265 267 268 270 272 274 278 282 286 288 288 289 290\n",
      " 293 296 301 303 304 305 304 303 301 299 297 296 294 292 293 295 297 299\n",
      " 301 308 314 320 325 327 327 326 324 321 318 313 309 304 299 294 288 281\n",
      " 274 269 265 262 259 254 248 244 240 236 231 229 229 230 233 236 241 245\n",
      " 248 250 252 253 255 258 258 258 257 256 256 256 255 254 252 249 247 243\n",
      " 239 235 230 228 229 229 228 227 225 222 220 217 214 211 209 207 206 204\n",
      " 204 203 205 209 215 220 225 229 231 230 227 222 216 208 199 192 189 187\n",
      " 186 185 184 184 183 183 183 183 183 184 186 187 189 193 198 203 208 213\n",
      " 217 220 220 223 227 232 237 242 247 252 257 263 268 270 271 272 271 268\n",
      " 263 258 252 247 243 242 244 246 248 249 249 250 247 242 237 232 229 228\n",
      " 230 235 242 250 255 255 252 247 241 235 230 227 224 221 218 214 211 206\n",
      " 203 200 198 195 193 192 191 191 191 191 194 198 199 200 201 201 200 202\n",
      " 205 207 209 209 208 208 211 215 221 227 232 237 242 248 255 262 271 281\n",
      " 291 302 311 316 319 318 315 313 313 312 312 312 311 307 302 296 290 284\n",
      " 278 271 266 262 263 267 269 272 273 274 277 283 289 294 295  -1  -1  -1\n",
      "  -1  -1  -1]\n"
     ]
    }
   ],
   "source": [
    "# for i in range(0, sizey):\n",
    "#     print(i, height[i].shape)\n",
    "\n",
    "print(height[0])\n",
    "print(height[1])"
   ]
  },
  {
   "cell_type": "code",
   "execution_count": 92,
   "metadata": {
    "scrolled": true
   },
   "outputs": [
    {
     "name": "stdout",
     "output_type": "stream",
     "text": [
      "MDE_26492se_v1\n",
      "MDE_26134no_v1\n",
      "MDE_26503se_v1\n",
      "MDE_26502se_v1\n",
      "MDE_26484ne_v1\n",
      "MDE_26493se_v1\n",
      "MDE_26493no_v1\n",
      "MDE_26124so_v1\n",
      "MDE_26482so_v1\n",
      "MDE_26133ne_v1\n",
      "MDE_26491se_v1\n",
      "MDE_26134so_v1\n",
      "MDE_26502so_v1\n",
      "MDE_26503no_v1\n",
      "MDE_26501so_v1\n",
      "MDE_26482se_v1\n",
      "MDE_26484so_v1\n",
      "MDE_26493ne_v1\n",
      "MDE_26503so_v1\n",
      "MDE_26484no_v1\n",
      "MDE_26482ne_v1\n",
      "MDE_26494no_v1\n",
      "MDE_26492so_v1\n",
      "MDE_26501se_v1\n",
      "MDE_26133no_v1\n",
      "MDE_26494so_v1\n",
      "MDE_26494ne_v1\n",
      "MDE_26494se_v1\n",
      "MDE_26124se_v1\n",
      "MDE_26503ne_v1\n",
      "MDE_26492no_v1\n",
      "MDE_26483se_v1\n",
      "MDE_26484se_v1\n",
      "MDE_26491ne_v1\n",
      "MDE_26493so_v1\n",
      "MDE_26491so_v1\n",
      "MDE_26491no_v1\n",
      "MDE_26133se_v1\n",
      "MDE_26482no_v1\n",
      "MDE_26133so_v1\n"
     ]
    }
   ],
   "source": [
    "listfile = open(listpath, 'r');\n",
    "files = listfile.read().splitlines()\n",
    "\n",
    "for filename in files:\n",
    "    name, ascii_full_path, cerr_full_path, grid_full_path = paths(filename)\n",
    "    print(name)\n",
    "    all_points = read_file(ascii_full_path)\n",
    "    smallest, largest = extreme_points(all_points)"
   ]
  }
 ],
 "metadata": {
  "interpreter": {
   "hash": "31f2aee4e71d21fbe5cf8b01ff0e069b9275f58929596ceb00d14d90e3e16cd6"
  },
  "kernelspec": {
   "display_name": "Python 3 (ipykernel)",
   "language": "python",
   "name": "python3"
  },
  "language_info": {
   "codemirror_mode": {
    "name": "ipython",
    "version": 3
   },
   "file_extension": ".py",
   "mimetype": "text/x-python",
   "name": "python",
   "nbconvert_exporter": "python",
   "pygments_lexer": "ipython3",
   "version": "3.7.4"
  }
 },
 "nbformat": 4,
 "nbformat_minor": 2
}
