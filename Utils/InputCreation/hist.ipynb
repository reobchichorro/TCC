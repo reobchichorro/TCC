{
 "cells": [
  {
   "cell_type": "code",
   "execution_count": 3,
   "metadata": {},
   "outputs": [
    {
     "name": "stdout",
     "output_type": "stream",
     "text": [
      "0\n",
      "10000\n",
      "20000\n",
      "30000\n",
      "40000\n",
      "50000\n",
      "60000\n",
      "70000\n",
      "80000\n",
      "90000\n"
     ]
    }
   ],
   "source": [
    "import random\n",
    "import matplotlib.pyplot as plt\n",
    "\n",
    "arr = []\n",
    "for i in range(0,100000):\n",
    "    total = 0\n",
    "    for j in range(0,1000):\n",
    "        k = random.randint(1,20)\n",
    "        if k == 1:\n",
    "            total += 1\n",
    "    arr.append(total)\n",
    "    if i % 10000 == 0:\n",
    "        print(i)\n"
   ]
  },
  {
   "cell_type": "code",
   "execution_count": 6,
   "metadata": {},
   "outputs": [
    {
     "data": {
      "text/plain": [
       "[]"
      ]
     },
     "execution_count": 6,
     "metadata": {},
     "output_type": "execute_result"
    },
    {
     "data": {
      "image/png": "[encoded data removed]",
      "text/plain": [
       "<Figure size 432x288 with 1 Axes>"
      ]
     },
     "metadata": {
      "needs_background": "light"
     },
     "output_type": "display_data"
    }
   ],
   "source": [
    "h = plt.hist(arr, bins=100)\n",
    "plt.plot()"
   ]
  },
  {
   "cell_type": "code",
   "execution_count": 9,
   "metadata": {},
   "outputs": [
    {
     "name": "stdout",
     "output_type": "stream",
     "text": [
      "Counter({50: 5853, 49: 5765, 48: 5741, 51: 5720, 52: 5476, 47: 5295, 53: 5151, 46: 5120, 54: 4735, 45: 4541, 55: 4331, 44: 4215, 56: 3811, 43: 3569, 57: 3292, 42: 3011, 58: 2797, 41: 2555, 59: 2406, 40: 2108, 60: 1928, 39: 1603, 61: 1589, 62: 1258, 38: 1254, 37: 991, 63: 974, 64: 713, 36: 665, 65: 608, 35: 484, 66: 423, 67: 338, 34: 336, 68: 254, 33: 237, 69: 158, 32: 136, 70: 112, 71: 81, 31: 78, 72: 61, 30: 54, 29: 35, 73: 33, 74: 22, 28: 21, 75: 16, 27: 10, 76: 10, 77: 7, 78: 4, 25: 4, 79: 4, 26: 3, 80: 1, 83: 1, 82: 1, 20: 1})\n"
     ]
    }
   ],
   "source": [
    "import collections\n",
    "\n",
    "counter=collections.Counter(arr)\n",
    "\n",
    "print(counter)"
   ]
  }
 ],
 "metadata": {
  "interpreter": {
   "hash": "ba4e7deb22a6d72e915d9dc65d8634c011f6f5183512a602397e512956c60a21"
  },
  "kernelspec": {
   "display_name": "Python 3.7.4 64-bit ('base': conda)",
   "name": "python3"
  },
  "language_info": {
   "codemirror_mode": {
    "name": "ipython",
    "version": 3
   },
   "file_extension": ".py",
   "mimetype": "text/x-python",
   "name": "python",
   "nbconvert_exporter": "python",
   "pygments_lexer": "ipython3",
   "version": "3.7.4"
  },
  "orig_nbformat": 4
 },
 "nbformat": 4,
 "nbformat_minor": 2
}
