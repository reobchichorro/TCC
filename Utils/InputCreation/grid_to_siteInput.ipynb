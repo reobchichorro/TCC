{
 "cells": [
  {
   "cell_type": "code",
   "execution_count": 1,
   "metadata": {},
   "outputs": [],
   "source": [
    "import numpy as np\n",
    "import os\n",
    "\n",
    "path = '../../Inputs/DEM-IBGE/sc25/'\n",
    "gridpath = path + 'grid/'\n",
    "cerrpath = path + 'cerr/'\n",
    "sitepath = '../../wrf/c/site/'\n",
    "listpath = path + 'flist40.txt'\n",
    "resolution = 20"
   ]
  },
  {
   "cell_type": "code",
   "execution_count": 2,
   "metadata": {},
   "outputs": [],
   "source": [
    "def paths(filename):\n",
    "    name = filename.partition('.')[0]\n",
    "    cerr_full_path = cerrpath + name;\n",
    "    grid_full_path = gridpath + name;\n",
    "    site_full_path = sitepath + name + '/';\n",
    "    \n",
    "    return [name, cerr_full_path, grid_full_path, site_full_path]"
   ]
  },
  {
   "cell_type": "code",
   "execution_count": 3,
   "metadata": {},
   "outputs": [],
   "source": [
    "def read_file(grid_full_path):\n",
    "    gridfile = open(grid_full_path, 'r');\n",
    "    lines = gridfile.read().splitlines()\n",
    "    ncols = len(lines[0].split(' '))\n",
    "    nrows = min(len(lines), ncols)\n",
    "    all_points = np.empty([nrows, nrows], dtype=int)\n",
    "\n",
    "    for i in range(0,nrows):\n",
    "        lline = lines[i].split(' ')\n",
    "        \n",
    "        for j in range(0,len(lline)):\n",
    "            all_points[i][j] = int(lline[j])\n",
    "        \n",
    "#         print(len(lline))\n",
    "#         if i==0:\n",
    "#             print((len(lines[0])+1)/5)\n",
    "#             print(lline)\n",
    "#             print(all_points[0])\n",
    "#             print(len(lines), len(lines[0]), len(lline), len(all_points[0]))\n",
    "            \n",
    "#     for i in range(0, len(all_points)):\n",
    "#         if i%20000==0:\n",
    "#             print(all_points[i])\n",
    "    return all_points"
   ]
  },
  {
   "cell_type": "code",
   "execution_count": 4,
   "metadata": {},
   "outputs": [],
   "source": [
    "def print_bytes(all_points, site_full_path):\n",
    "    if not os.path.exists(site_full_path):\n",
    "        os.mkdir(site_full_path)\n",
    "    nrowsfile = open(site_full_path + 'nrows', 'w');\n",
    "    nrowsfile.write(str(len(all_points))+'\\n')\n",
    "    \n",
    "    elsizefile = open(site_full_path + 'elsize', 'w');\n",
    "    elsizefile.write('2\\n')\n",
    "    \n",
    "    resolutionfile = open(site_full_path + 'resolution', 'w');\n",
    "    resolutionfile.write(str(resolution)+'\\n')\n",
    "    \n",
    "    cmd = 'ln -s /home/reobc/Documents/Disciplinas/TCC/wrf/c/site/Makefile ' + site_full_path\n",
    "    os.system(cmd)\n",
    "    \n",
    "    elevsfile = open(site_full_path + 'elevs', 'wb');\n",
    "    for i in range(0, len(all_points)):\n",
    "        for j in range(0,len(all_points[i])):\n",
    "#             print(i, j, all_points[i][j])\n",
    "            elevsfile.write((int(all_points[i][j])).to_bytes(2, byteorder='little', signed=False))"
   ]
  },
  {
   "cell_type": "code",
   "execution_count": 5,
   "metadata": {
    "scrolled": false
   },
   "outputs": [
    {
     "name": "stdout",
     "output_type": "stream",
     "text": [
      "2908-2-SE\n"
     ]
    },
    {
     "name": "stderr",
     "output_type": "stream",
     "text": [
      "ln: failed to create symbolic link '../../wrf/c/site/2908-2-SE/Makefile': File exists\n"
     ]
    },
    {
     "name": "stdout",
     "output_type": "stream",
     "text": [
      "2908-3-SE\n",
      "2908-4-SE\n",
      "2909-3-SE\n",
      "2924-1-SE\n",
      "2924-2-SE\n",
      "2908-2-SO\n",
      "2908-3-SO\n",
      "2908-4-SO\n",
      "2909-3-SO\n",
      "2924-1-SO\n",
      "2924-2-SO\n",
      "2925-1-SO\n"
     ]
    },
    {
     "name": "stderr",
     "output_type": "stream",
     "text": [
      "ln: failed to create symbolic link '../../wrf/c/site/2925-1-SO/Makefile': File exists\n"
     ]
    },
    {
     "name": "stdout",
     "output_type": "stream",
     "text": [
      "2908-3-NE\n",
      "2908-4-NE\n",
      "2909-3-NE\n",
      "2924-1-NE\n",
      "2924-2-NE\n",
      "2908-3-NO\n",
      "2908-4-NO\n",
      "2909-3-NO\n",
      "2924-1-NO\n",
      "2924-2-NO\n",
      "2925-1-NO\n"
     ]
    }
   ],
   "source": [
    "listfile = open(listpath, 'r');\n",
    "files = listfile.read().splitlines()\n",
    "if not os.path.exists(sitepath):\n",
    "    os.mkdir(sitepath)\n",
    "\n",
    "for filename in files:\n",
    "    name, cerr_full_path, grid_full_path, site_full_path = paths(filename)\n",
    "    print(name)\n",
    "    all_points = read_file(grid_full_path)\n",
    "#     print(all_points)\n",
    "    print_bytes(all_points, site_full_path)"
   ]
  }
 ],
 "metadata": {
  "interpreter": {
   "hash": "31f2aee4e71d21fbe5cf8b01ff0e069b9275f58929596ceb00d14d90e3e16cd6"
  },
  "kernelspec": {
   "display_name": "Python 3.8.10 64-bit",
   "name": "python3"
  },
  "language_info": {
   "codemirror_mode": {
    "name": "ipython",
    "version": 3
   },
   "file_extension": ".py",
   "mimetype": "text/x-python",
   "name": "python",
   "nbconvert_exporter": "python",
   "pygments_lexer": "ipython3",
   "version": "3.8.10"
  }
 },
 "nbformat": 4,
 "nbformat_minor": 2
}
