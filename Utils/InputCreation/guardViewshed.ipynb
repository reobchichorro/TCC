{
 "cells": [
  {
   "cell_type": "code",
   "execution_count": 1,
   "metadata": {},
   "outputs": [],
   "source": [
    "import numpy as np\n",
    "import os\n",
    "import pandas as pd"
   ]
  },
  {
   "cell_type": "code",
   "execution_count": 2,
   "metadata": {},
   "outputs": [],
   "source": [
    "df = pd.read_csv(filepath_or_buffer='GuardDatabase/numCovered.csv', sep='\\t', lineterminator='\\n', header=0)\n",
    "nrowsdf = pd.read_csv(filepath_or_buffer='GuardDatabase/nrows.csv', sep='\\t', lineterminator='\\n', header=0)"
   ]
  },
  {
   "cell_type": "code",
   "execution_count": 3,
   "metadata": {},
   "outputs": [
    {
     "data": {
      "text/plain": [
       "dem      object\n",
       "nrows     int64\n",
       "dtype: object"
      ]
     },
     "execution_count": 3,
     "metadata": {},
     "output_type": "execute_result"
    }
   ],
   "source": [
    "df.dtypes\n",
    "nrowsdf.dtypes"
   ]
  },
  {
   "cell_type": "code",
   "execution_count": 4,
   "metadata": {},
   "outputs": [],
   "source": [
    "dems = nrowsdf['dem']"
   ]
  },
  {
   "cell_type": "code",
   "execution_count": 5,
   "metadata": {},
   "outputs": [],
   "source": [
    "granular = df.groupby(['dem', 'radius', 'height'])"
   ]
  },
  {
   "cell_type": "code",
   "execution_count": 6,
   "metadata": {},
   "outputs": [],
   "source": [
    "ans = granular['numCovered'].mean().to_frame()\n",
    "# print(ans)"
   ]
  },
  {
   "cell_type": "code",
   "execution_count": 7,
   "metadata": {},
   "outputs": [
    {
     "name": "stdout",
     "output_type": "stream",
     "text": [
      "           dem  radius  height  per100000Covered\n",
      "0    2908-2-SE       5       0        206.358450\n",
      "1    2908-2-SE       5       5        314.265979\n",
      "2    2908-2-SE       5      10        389.155572\n",
      "3    2908-2-SE       5      20        485.827001\n",
      "4    2908-2-SE       5      50        629.566411\n",
      "5    2908-2-SE      10       0        577.487274\n",
      "6    2908-2-SE      10       5        852.687521\n",
      "7    2908-2-SE      10      10       1041.707400\n",
      "8    2908-2-SE      10      20       1302.112562\n",
      "9    2908-2-SE      10      50       1812.007547\n",
      "10   2908-2-SE      15       0        999.964775\n",
      "11   2908-2-SE      15       5       1451.103698\n",
      "12   2908-2-SE      15      10       1754.614718\n",
      "13   2908-2-SE      15      20       2190.341092\n",
      "14   2908-2-SE      15      50       3113.380901\n",
      "15   2908-2-SE      20       0       1404.055400\n",
      "16   2908-2-SE      20       5       2036.089481\n",
      "17   2908-2-SE      20      10       2452.877854\n",
      "18   2908-2-SE      20      20       3060.545060\n",
      "19   2908-2-SE      20      50       4396.651690\n",
      "20   2908-2-SE      25       0       1799.516106\n",
      "21   2908-2-SE      25       5       2594.419325\n",
      "22   2908-2-SE      25      10       3110.189332\n",
      "23   2908-2-SE      25      20       3872.206565\n",
      "24   2908-2-SE      25      50       5588.912476\n",
      "25   2908-2-SE      50       0       3784.101632\n",
      "26   2908-2-SE      50       5       5278.249952\n",
      "27   2908-2-SE      50      10       6169.373347\n",
      "28   2908-2-SE      50      20       7512.851640\n",
      "29   2908-2-SE      50      50      10769.075279\n",
      "..         ...     ...     ...               ...\n",
      "630  2924-2-SO       5       0        229.733883\n",
      "631  2924-2-SO       5       5        358.092090\n",
      "632  2924-2-SO       5      10        430.426533\n",
      "633  2924-2-SO       5      20        518.999485\n",
      "634  2924-2-SO       5      50        644.014491\n",
      "635  2924-2-SO      10       0        686.930808\n",
      "636  2924-2-SO      10       5       1019.170319\n",
      "637  2924-2-SO      10      10       1218.340085\n",
      "638  2924-2-SO      10      20       1484.231712\n",
      "639  2924-2-SO      10      50       1955.016497\n",
      "640  2924-2-SO      15       0       1218.441416\n",
      "641  2924-2-SO      15       5       1755.040455\n",
      "642  2924-2-SO      15      10       2087.472422\n",
      "643  2924-2-SO      15      20       2548.487857\n",
      "644  2924-2-SO      15      50       3438.896102\n",
      "645  2924-2-SO      20       0       1794.509324\n",
      "646  2924-2-SO      20       5       2532.710078\n",
      "647  2924-2-SO      20      10       2993.789666\n",
      "648  2924-2-SO      20      20       3646.426057\n",
      "649  2924-2-SO      20      50       4984.980674\n",
      "650  2924-2-SO      25       0       2408.571331\n",
      "651  2924-2-SO      25       5       3348.196653\n",
      "652  2924-2-SO      25      10       3937.401167\n",
      "653  2924-2-SO      25      20       4771.511543\n",
      "654  2924-2-SO      25      50       6558.507778\n",
      "655  2924-2-SO      50       0       5258.248338\n",
      "656  2924-2-SO      50       5       6987.143155\n",
      "657  2924-2-SO      50      10       8058.832199\n",
      "658  2924-2-SO      50      20       9631.372964\n",
      "659  2924-2-SO      50      50      13315.222312\n",
      "\n",
      "[660 rows x 4 columns]\n"
     ]
    }
   ],
   "source": [
    "# nrowsdf.loc[nrowsdf['dem'] == '2908-2-SE']\n",
    "dic = {'dem':[], 'radius':[], 'height':[], 'per100000Covered':[]}\n",
    "for k in ans.itertuples():\n",
    "    a = nrowsdf.loc[nrowsdf['dem'] == k.Index[0]]['nrows'].array\n",
    "    # print(a)\n",
    "    # print(k.Index, 100000*k.numCovered/a[0]/a[0])\n",
    "    # print(k.numCovered, a[0])\n",
    "    dic['dem'].append(k.Index[0])\n",
    "    dic['radius'].append(k.Index[1])\n",
    "    dic['height'].append(k.Index[2])\n",
    "    dic['per100000Covered'].append(100000*k.numCovered/a[0]/a[0])\n",
    "    # break\n",
    "# print(dic)\n",
    "newdf = pd.DataFrame.from_dict(dic)#, orient='index', columns=[('dem','radius','height'),'per100Covered'])\n",
    "print(newdf)"
   ]
  },
  {
   "cell_type": "code",
   "execution_count": 16,
   "metadata": {},
   "outputs": [
    {
     "name": "stdout",
     "output_type": "stream",
     "text": [
      "Pandas(Index=(5, 0), per100000Covered=221.5978963190173)\n",
      "Pandas(Index=(5, 5), per100000Covered=340.1929767034537)\n",
      "Pandas(Index=(5, 10), per100000Covered=405.61796712462314)\n",
      "Pandas(Index=(5, 20), per100000Covered=488.8711141251711)\n",
      "Pandas(Index=(5, 50), per100000Covered=612.4811896679233)\n",
      "Pandas(Index=(10, 0), per100000Covered=655.9212923927449)\n",
      "Pandas(Index=(10, 5), per100000Covered=985.4357113807368)\n",
      "Pandas(Index=(10, 10), per100000Covered=1153.409816381351)\n",
      "Pandas(Index=(10, 20), per100000Covered=1378.2569661857667)\n",
      "Pandas(Index=(10, 50), per100000Covered=1796.8819116006523)\n",
      "Pandas(Index=(15, 0), per100000Covered=1172.8286687092648)\n",
      "Pandas(Index=(15, 5), per100000Covered=1747.3194256233242)\n",
      "Pandas(Index=(15, 10), per100000Covered=2024.9710769733758)\n",
      "Pandas(Index=(15, 20), per100000Covered=2397.1063896227383)\n",
      "Pandas(Index=(15, 50), per100000Covered=3140.3636298132183)\n",
      "Pandas(Index=(20, 0), per100000Covered=1716.036837784714)\n",
      "Pandas(Index=(20, 5), per100000Covered=2545.9332224609784)\n",
      "Pandas(Index=(20, 10), per100000Covered=2936.725711267552)\n",
      "Pandas(Index=(20, 20), per100000Covered=3456.4448591814125)\n",
      "Pandas(Index=(20, 50), per100000Covered=4528.058006494378)\n",
      "Pandas(Index=(25, 0), per100000Covered=2256.536897630093)\n",
      "Pandas(Index=(25, 5), per100000Covered=3336.417055209458)\n",
      "Pandas(Index=(25, 10), per100000Covered=3838.690189489536)\n",
      "Pandas(Index=(25, 20), per100000Covered=4502.389175635299)\n",
      "Pandas(Index=(25, 50), per100000Covered=5890.638012074726)\n",
      "Pandas(Index=(50, 0), per100000Covered=4572.643988834785)\n",
      "Pandas(Index=(50, 5), per100000Covered=6657.258131591764)\n",
      "Pandas(Index=(50, 10), per100000Covered=7605.462738186983)\n",
      "Pandas(Index=(50, 20), per100000Covered=8866.750221673437)\n",
      "Pandas(Index=(50, 50), per100000Covered=11553.645030902897)\n"
     ]
    }
   ],
   "source": [
    "means = newdf.groupby(['radius', 'height']).mean()\n",
    "for k in means.itertuples():\n",
    "    print(k)"
   ]
  },
  {
   "cell_type": "code",
   "execution_count": 31,
   "metadata": {},
   "outputs": [
    {
     "name": "stdout",
     "output_type": "stream",
     "text": [
      "     height  radius  angle  per100000Covered\n",
      "0         0       5     45                27\n",
      "1         0       5     90                55\n",
      "2         0       5    135                83\n",
      "3         0       5    180               110\n",
      "4         0       5    225               138\n",
      "5         0       5    270               166\n",
      "6         0       5    360               221\n",
      "7         5       5     45                42\n",
      "8         5       5     90                85\n",
      "9         5       5    135               127\n",
      "10        5       5    180               170\n",
      "11        5       5    225               212\n",
      "12        5       5    270               255\n",
      "13        5       5    360               340\n",
      "14       10       5     45                50\n",
      "15       10       5     90               101\n",
      "16       10       5    135               152\n",
      "17       10       5    180               202\n",
      "18       10       5    225               253\n",
      "19       10       5    270               304\n",
      "20       10       5    360               405\n",
      "21       20       5     45                61\n",
      "22       20       5     90               122\n",
      "23       20       5    135               183\n",
      "24       20       5    180               244\n",
      "25       20       5    225               305\n",
      "26       20       5    270               366\n",
      "27       20       5    360               488\n",
      "28       50       5     45                76\n",
      "29       50       5     90               153\n",
      "..      ...     ...    ...               ...\n",
      "180       0      50    270              3429\n",
      "181       0      50    360              4572\n",
      "182       5      50     45               832\n",
      "183       5      50     90              1664\n",
      "184       5      50    135              2496\n",
      "185       5      50    180              3328\n",
      "186       5      50    225              4160\n",
      "187       5      50    270              4992\n",
      "188       5      50    360              6657\n",
      "189      10      50     45               950\n",
      "190      10      50     90              1901\n",
      "191      10      50    135              2852\n",
      "192      10      50    180              3802\n",
      "193      10      50    225              4753\n",
      "194      10      50    270              5704\n",
      "195      10      50    360              7605\n",
      "196      20      50     45              1108\n",
      "197      20      50     90              2216\n",
      "198      20      50    135              3325\n",
      "199      20      50    180              4433\n",
      "200      20      50    225              5541\n",
      "201      20      50    270              6650\n",
      "202      20      50    360              8866\n",
      "203      50      50     45              1444\n",
      "204      50      50     90              2888\n",
      "205      50      50    135              4332\n",
      "206      50      50    180              5776\n",
      "207      50      50    225              7221\n",
      "208      50      50    270              8665\n",
      "209      50      50    360             11553\n",
      "\n",
      "[210 rows x 4 columns]\n"
     ]
    }
   ],
   "source": [
    "dic2 = {'height':[], 'radius':[], 'angle':[], 'per100000Covered':[]}\n",
    "angles = (45, 90, 135, 180, 225, 270, 360)\n",
    "for k in means.itertuples():\n",
    "    a = nrowsdf.loc[nrowsdf['dem'] == k.Index[0]]['nrows'].array\n",
    "    \n",
    "    for angle in angles:\n",
    "        dic2['height'].append(k.Index[1])\n",
    "        dic2['radius'].append(k.Index[0])\n",
    "        dic2['angle'].append(angle)\n",
    "        dic2['per100000Covered'].append(int(k.per100000Covered*angle/360))\n",
    "    # break\n",
    "final = pd.DataFrame.from_dict(dic2)#, orient='index', columns=[('dem','radius','height'),'per100Covered'])\n",
    "print(final)\n",
    "final.to_csv(path_or_buf='GuardDatabase/icosts.csv', sep='\\t', index=False)"
   ]
  }
 ],
 "metadata": {
  "interpreter": {
   "hash": "ba4e7deb22a6d72e915d9dc65d8634c011f6f5183512a602397e512956c60a21"
  },
  "kernelspec": {
   "display_name": "Python 3.7.4 64-bit ('base': conda)",
   "name": "python3"
  },
  "language_info": {
   "codemirror_mode": {
    "name": "ipython",
    "version": 3
   },
   "file_extension": ".py",
   "mimetype": "text/x-python",
   "name": "python",
   "nbconvert_exporter": "python",
   "pygments_lexer": "ipython3",
   "version": "3.7.4"
  },
  "orig_nbformat": 4
 },
 "nbformat": 4,
 "nbformat_minor": 2
}
