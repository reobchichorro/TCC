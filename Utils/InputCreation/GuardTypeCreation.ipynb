{
 "cells": [
  {
   "cell_type": "code",
   "execution_count": 31,
   "source": [
    "import random\n",
    "import matplotlib.pyplot as plt\n",
    "\n",
    "#meters\n",
    "minh = 0\n",
    "maxh = 50\n",
    "\n",
    "#percentage of map\n",
    "minr = 5\n",
    "maxr = 25\n",
    "\n",
    "#degrees\n",
    "mina = 30\n",
    "maxa = 360\n",
    "\n",
    "#fictitional value\n",
    "minic = 1000\n",
    "maxic = 50000\n",
    "\n",
    "#per thousand of icost\n",
    "minmc = 5\n",
    "maxmc = 400\n",
    "\n",
    "#\n",
    "minam = 1\n",
    "maxam = 10\n",
    "\n",
    "folder = 'Inputs\\GuardTypes'\n",
    "filename = ''\n",
    "\n",
    "name = ''\n",
    "hs = []\n",
    "for i in range(0,100):\n",
    "    height = int( random.triangular(minh, maxh/5, 4)  )\n",
    "    hs.append(height)\n",
    "    \n",
    "    \n",
    "# plt.hist(hs, bins=10)\n",
    "# plt.savefig('foo.png')\n",
    "print(hs)\n",
    "    \n",
    "\n",
    "# names\n",
    "\n",
    "# heights\n",
    "# 0   5   10  20  50\n",
    "# radiuses\n",
    "# 5   10  15  20  25\n",
    "# angles\n",
    "# 30  60  90  120 180 225 270 360\n",
    "# icosts\n",
    "# 1500    2000    2500    3000    4000    5000    7000    8000    9000    10000   24000   45000\n",
    "# mcosts\n",
    "# 5   10  25  100 150 200 250 333 400\n",
    "# amounts 10\n",
    "# 1   2   3   4   5   6   7   8   9   10\n"
   ],
   "outputs": [
    {
     "output_type": "stream",
     "name": "stdout",
     "text": [
      "[7, 2, 4, 6, 6, 5, 7, 5, 2, 5, 6, 1, 6, 4, 6, 3, 2, 7, 1, 5, 3, 1, 2, 4, 7, 6, 6, 7, 3, 8, 2, 3, 5, 7, 3, 2, 4, 2, 4, 5, 6, 6, 6, 5, 2, 7, 6, 2, 1, 2, 8, 5, 6, 5, 0, 2, 3, 6, 2, 6, 4, 1, 6, 4, 2, 5, 7, 3, 6, 1, 1, 7, 5, 4, 0, 0, 3, 3, 6, 7, 7, 3, 3, 4, 1, 3, 5, 7, 4, 5, 5, 3, 6, 5, 4, 4, 5, 8, 2, 4]\n"
     ]
    }
   ],
   "metadata": {
    "scrolled": true
   }
  }
 ],
 "metadata": {
  "kernelspec": {
   "display_name": "Python 3 (ipykernel)",
   "language": "python",
   "name": "python3"
  },
  "language_info": {
   "codemirror_mode": {
    "name": "ipython",
    "version": 3
   },
   "file_extension": ".py",
   "mimetype": "text/x-python",
   "name": "python",
   "nbconvert_exporter": "python",
   "pygments_lexer": "ipython3",
   "version": "3.7.4"
  }
 },
 "nbformat": 4,
 "nbformat_minor": 2
}